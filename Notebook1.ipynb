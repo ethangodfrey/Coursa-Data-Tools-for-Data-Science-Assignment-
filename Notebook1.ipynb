{
 "cells": [
  {
   "cell_type": "markdown",
   "id": "cb6b8e9f-7cb8-41d7-b4e7-22f9bbed5932",
   "metadata": {
    "tags": []
   },
   "source": [
    "# Analysis of Data Science Trends\n",
    "\n",
    "\n",
    "\n"
   ]
  },
  {
   "cell_type": "markdown",
   "id": "90813005-d5a5-462a-be10-844aa8040f4c",
   "metadata": {
    "tags": []
   },
   "source": [
    "Welcome to this tutorial on using Jupyter Notebooks for data science projects. In this notebook, we will explore various data analysis techniques.\n"
   ]
  },
  {
   "cell_type": "markdown",
   "id": "c35330c1-c443-4a8a-a02e-ef613166b7fb",
   "metadata": {},
   "source": [
    "Below is a list of popular programming languages used in data science: \n",
    "1. Python - Widely used for data science, offering libraries such as NumPy, Pandas, and Scikit-learn. \n",
    "2. R - Great for statistical analysis and data visualization. \n",
    "3. SQL - Essential for data querying. \n",
    "4. Java - Used for data processing in large systems. \n",
    "5. Scala - Often used with Apache Spark for big data processing. "
   ]
  },
  {
   "cell_type": "markdown",
   "id": "30ab7284-1733-40ff-b15d-a3fe05d4733b",
   "metadata": {},
   "source": [
    " Here is a list of key libraries that every data scientist should be familiar with: \n",
    " 1. **NumPy**: Provides support for large, multi-dimensional arrays and matrices, along with a collection of mathematical functions to operate on these arrays. \n",
    " 2. **Pandas**: Offers data structures and operations for manipulating numerical tables and time series. \n",
    " 3. **Matplotlib**: Basic plotting library in Python, allowing for static, animated, and interactive visualizations in Jupyter Notebooks. \n",
    " 4. **Scikit-learn**: Machine learning library that supports supervised and unsupervised learning also features various classification, regression, and clustering algorithms. \n",
    " 5. **TensorFlow**: An end-to-end open-source platform for machine learning to easily build and deploy ML powered applications. "
   ]
  },
  {
   "cell_type": "markdown",
   "id": "720d103d-e0d8-4f31-8f58-be3401d7924e",
   "metadata": {},
   "source": [
    "| Tool | Use |\n",
    "|------|-----|\n",
    "| Jupyter | Interactive development environment for writing and running code |\n",
    "| Pandas | Data manipulation and analysis |\n",
    "| NumPy | Support for large, multi-dimensional arrays and matrices |\n",
    "| Matplotlib | Creating static, animated, and interactive visualizations |\n",
    "| Scikit-learn | Machine learning library for Python |\n",
    "\n"
   ]
  },
  {
   "cell_type": "markdown",
   "id": "c5559d81-5d89-4f8c-9642-b7d5d7f75086",
   "metadata": {},
   "source": [
    "In this section, we will explore various arithmetic expressions and how they can be implemented in Python. Here are a few simple examples:\n"
   ]
  },
  {
   "cell_type": "code",
   "execution_count": 5,
   "id": "d21e2f0f-b24e-411b-ab25-7325a5a8d189",
   "metadata": {
    "tags": []
   },
   "outputs": [
    {
     "name": "stdout",
     "output_type": "stream",
     "text": [
      "The result of (2 * 3) + 4 is: 10\n"
     ]
    }
   ],
   "source": [
    "# Calculate the result of multiplying two numbers and then adding a third number\n",
    "result = (2 * 3) + 4\n",
    "print(\"The result of (2 * 3) + 4 is:\", result)\n"
   ]
  },
  {
   "cell_type": "code",
   "execution_count": 6,
   "id": "7e5c39bb-245e-45dc-9c21-34f60d18ed4b",
   "metadata": {
    "tags": []
   },
   "outputs": [
    {
     "name": "stdout",
     "output_type": "stream",
     "text": [
      "150 minutes is equal to 2.5 hours.\n"
     ]
    }
   ],
   "source": [
    "# Convert minutes to hours\n",
    "minutes = 150\n",
    "hours = minutes / 60\n",
    "print(f\"{minutes} minutes is equal to {hours} hours.\")\n"
   ]
  },
  {
   "cell_type": "markdown",
   "id": "89561490-9bab-4abf-85dc-f3ff9abb0df2",
   "metadata": {},
   "source": [
    "### Objectives of This Notebook \n",
    "The primary goals of this notebook include: - Understanding the basics of Python programming. - Learning how to manipulate data with Pandas. - Creating visualizations with Matplotlib. - Building simple machine learning models. \n"
   ]
  },
  {
   "cell_type": "markdown",
   "id": "d2f342bd-1adf-4f41-906f-2dfc2465dca7",
   "metadata": {},
   "source": [
    "**Author**: Ethan Fisher \n"
   ]
  },
  {
   "cell_type": "code",
   "execution_count": null,
   "id": "f355757d-305c-4665-88e1-7afbaa6259bc",
   "metadata": {},
   "outputs": [],
   "source": []
  }
 ],
 "metadata": {
  "kernelspec": {
   "display_name": "Python",
   "language": "python",
   "name": "conda-env-python-py"
  },
  "language_info": {
   "codemirror_mode": {
    "name": "ipython",
    "version": 3
   },
   "file_extension": ".py",
   "mimetype": "text/x-python",
   "name": "python",
   "nbconvert_exporter": "python",
   "pygments_lexer": "ipython3",
   "version": "3.7.12"
  }
 },
 "nbformat": 4,
 "nbformat_minor": 5
}
